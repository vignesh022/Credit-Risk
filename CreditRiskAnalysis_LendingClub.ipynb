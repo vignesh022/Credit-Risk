{
 "cells": [
  {
   "cell_type": "markdown",
   "metadata": {},
   "source": [
    "# Predicting the credit risk associated with loans"
   ]
  },
  {
   "cell_type": "code",
   "execution_count": 3,
   "metadata": {},
   "outputs": [
    {
     "data": {
      "text/plain": [
       "(2260701, 151)"
      ]
     },
     "execution_count": 3,
     "metadata": {},
     "output_type": "execute_result"
    }
   ],
   "source": [
    "import pandas as pd\n",
    "loans_data = pd.read_csv('accepted_2007_to_2018Q4.csv.gz', compression='gzip', error_bad_lines=False,low_memory=False)\n",
    "loans_data.shape"
   ]
  },
  {
   "cell_type": "markdown",
   "metadata": {},
   "source": [
    "### Check for missing values\n",
    "Let's express the missing values per column as a percentage of the total length for easier interpretation."
   ]
  },
  {
   "cell_type": "code",
   "execution_count": 7,
   "metadata": {},
   "outputs": [
    {
     "data": {
      "text/plain": [
       "member_id                                     100.000000\n",
       "orig_projected_additional_accrued_interest     99.617331\n",
       "hardship_loan_status                           99.517097\n",
       "hardship_dpd                                   99.517097\n",
       "hardship_reason                                99.517097\n",
       "hardship_status                                99.517097\n",
       "deferral_term                                  99.517097\n",
       "hardship_amount                                99.517097\n",
       "hardship_start_date                            99.517097\n",
       "hardship_end_date                              99.517097\n",
       "payment_plan_start_date                        99.517097\n",
       "hardship_length                                99.517097\n",
       "hardship_type                                  99.517097\n",
       "hardship_payoff_balance_amount                 99.517097\n",
       "hardship_last_payment_amount                   99.517097\n",
       "settlement_percentage                          98.485160\n",
       "debt_settlement_flag_date                      98.485160\n",
       "settlement_status                              98.485160\n",
       "settlement_date                                98.485160\n",
       "settlement_amount                              98.485160\n",
       "settlement_term                                98.485160\n",
       "sec_app_mths_since_last_major_derog            98.410139\n",
       "sec_app_revol_util                             95.303050\n",
       "revol_bal_joint                                95.221836\n",
       "sec_app_chargeoff_within_12_mths               95.221792\n",
       "sec_app_num_rev_accts                          95.221792\n",
       "sec_app_open_act_il                            95.221792\n",
       "sec_app_open_acc                               95.221792\n",
       "sec_app_mort_acc                               95.221792\n",
       "sec_app_inq_last_6mths                         95.221792\n",
       "                                                 ...    \n",
       "home_ownership                                  0.001460\n",
       "sub_grade                                       0.001460\n",
       "grade                                           0.001460\n",
       "installment                                     0.001460\n",
       "int_rate                                        0.001460\n",
       "term                                            0.001460\n",
       "funded_amnt_inv                                 0.001460\n",
       "funded_amnt                                     0.001460\n",
       "debt_settlement_flag                            0.001460\n",
       "collection_recovery_fee                         0.001460\n",
       "addr_state                                      0.001460\n",
       "fico_range_low                                  0.001460\n",
       "application_type                                0.001460\n",
       "policy_code                                     0.001460\n",
       "last_fico_range_low                             0.001460\n",
       "last_fico_range_high                            0.001460\n",
       "last_pymnt_amnt                                 0.001460\n",
       "recoveries                                      0.001460\n",
       "total_rec_late_fee                              0.001460\n",
       "total_rec_int                                   0.001460\n",
       "total_rec_prncp                                 0.001460\n",
       "total_pymnt_inv                                 0.001460\n",
       "total_pymnt                                     0.001460\n",
       "out_prncp_inv                                   0.001460\n",
       "out_prncp                                       0.001460\n",
       "initial_list_status                             0.001460\n",
       "revol_bal                                       0.001460\n",
       "hardship_flag                                   0.001460\n",
       "fico_range_high                                 0.001460\n",
       "id                                              0.000000\n",
       "Length: 151, dtype: float64"
      ]
     },
     "execution_count": 7,
     "metadata": {},
     "output_type": "execute_result"
    }
   ],
   "source": [
    "missing_values = loans_data.isnull().sum()\n",
    "missing_values = (missing_values*100)/loans_data.shape[0]\n",
    "missing_values.sort_values(ascending=False)"
   ]
  },
  {
   "cell_type": "code",
   "execution_count": 14,
   "metadata": {},
   "outputs": [
    {
     "data": {
      "text/plain": [
       "emp_title                     7.387178\n",
       "num_tl_120dpd_2m              6.798334\n",
       "emp_length                    6.499754\n",
       "mo_sin_old_il_acct            6.153136\n",
       "bc_util                       3.366389\n",
       "percent_bc_gt_75              3.335779\n",
       "bc_open_to_buy                3.316140\n",
       "mths_since_recent_bc          3.248771\n",
       "pct_tl_nvr_dlq                3.116909\n",
       "avg_cur_bal                   3.113149\n",
       "mo_sin_rcnt_rev_tl_op         3.110097\n",
       "mo_sin_old_rev_tl_op          3.110097\n",
       "num_rev_accts                 3.110097\n",
       "num_bc_tl                     3.110053\n",
       "mo_sin_rcnt_tl                3.110053\n",
       "tot_coll_amt                  3.110053\n",
       "num_accts_ever_120_pd         3.110053\n",
       "num_actv_bc_tl                3.110053\n",
       "num_actv_rev_tl               3.110053\n",
       "num_il_tl                     3.110053\n",
       "tot_cur_bal                   3.110053\n",
       "num_tl_90g_dpd_24m            3.110053\n",
       "total_il_high_credit_limit    3.110053\n",
       "tot_hi_cred_lim               3.110053\n",
       "num_tl_op_past_12m            3.110053\n",
       "total_rev_hi_lim              3.110053\n",
       "num_tl_30dpd                  3.110053\n",
       "num_rev_tl_bal_gt_0           3.110053\n",
       "num_op_rev_tl                 3.110053\n",
       "num_sats                      2.593134\n",
       "                                ...   \n",
       "sub_grade                     0.001460\n",
       "grade                         0.001460\n",
       "installment                   0.001460\n",
       "int_rate                      0.001460\n",
       "term                          0.001460\n",
       "funded_amnt_inv               0.001460\n",
       "funded_amnt                   0.001460\n",
       "verification_status           0.001460\n",
       "debt_settlement_flag          0.001460\n",
       "fico_range_low                0.001460\n",
       "recoveries                    0.001460\n",
       "hardship_flag                 0.001460\n",
       "application_type              0.001460\n",
       "policy_code                   0.001460\n",
       "last_fico_range_low           0.001460\n",
       "last_fico_range_high          0.001460\n",
       "disbursement_method           0.001460\n",
       "last_pymnt_amnt               0.001460\n",
       "collection_recovery_fee       0.001460\n",
       "total_rec_late_fee            0.001460\n",
       "fico_range_high               0.001460\n",
       "total_rec_int                 0.001460\n",
       "total_rec_prncp               0.001460\n",
       "total_pymnt_inv               0.001460\n",
       "total_pymnt                   0.001460\n",
       "out_prncp_inv                 0.001460\n",
       "out_prncp                     0.001460\n",
       "initial_list_status           0.001460\n",
       "revol_bal                     0.001460\n",
       "id                            0.000000\n",
       "Length: 92, dtype: float64"
      ]
     },
     "execution_count": 14,
     "metadata": {},
     "output_type": "execute_result"
    }
   ],
   "source": [
    "not_missing = missing_values[missing_values <= 10]\n",
    "not_missing.sort_values(ascending=False)"
   ]
  },
  {
   "cell_type": "markdown",
   "metadata": {},
   "source": [
    "~61% of the columns (92 out of 151)  in the dataset contain less than 10% total missing values. We can purge the dataset of the columns that contain more than 10% missing values as it inhibits our capability to make good predictions."
   ]
  },
  {
   "cell_type": "code",
   "execution_count": 16,
   "metadata": {},
   "outputs": [
    {
     "name": "stdout",
     "output_type": "stream",
     "text": [
      "<class 'pandas.core.frame.DataFrame'>\n",
      "RangeIndex: 2260701 entries, 0 to 2260700\n",
      "Data columns (total 92 columns):\n",
      "id                            object\n",
      "loan_amnt                     float64\n",
      "funded_amnt                   float64\n",
      "funded_amnt_inv               float64\n",
      "term                          object\n",
      "int_rate                      float64\n",
      "installment                   float64\n",
      "grade                         object\n",
      "sub_grade                     object\n",
      "emp_title                     object\n",
      "emp_length                    object\n",
      "home_ownership                object\n",
      "annual_inc                    float64\n",
      "verification_status           object\n",
      "issue_d                       object\n",
      "loan_status                   object\n",
      "pymnt_plan                    object\n",
      "url                           object\n",
      "purpose                       object\n",
      "title                         object\n",
      "zip_code                      object\n",
      "addr_state                    object\n",
      "dti                           float64\n",
      "delinq_2yrs                   float64\n",
      "earliest_cr_line              object\n",
      "fico_range_low                float64\n",
      "fico_range_high               float64\n",
      "inq_last_6mths                float64\n",
      "open_acc                      float64\n",
      "pub_rec                       float64\n",
      "revol_bal                     float64\n",
      "revol_util                    float64\n",
      "total_acc                     float64\n",
      "initial_list_status           object\n",
      "out_prncp                     float64\n",
      "out_prncp_inv                 float64\n",
      "total_pymnt                   float64\n",
      "total_pymnt_inv               float64\n",
      "total_rec_prncp               float64\n",
      "total_rec_int                 float64\n",
      "total_rec_late_fee            float64\n",
      "recoveries                    float64\n",
      "collection_recovery_fee       float64\n",
      "last_pymnt_d                  object\n",
      "last_pymnt_amnt               float64\n",
      "last_credit_pull_d            object\n",
      "last_fico_range_high          float64\n",
      "last_fico_range_low           float64\n",
      "collections_12_mths_ex_med    float64\n",
      "policy_code                   float64\n",
      "application_type              object\n",
      "acc_now_delinq                float64\n",
      "tot_coll_amt                  float64\n",
      "tot_cur_bal                   float64\n",
      "total_rev_hi_lim              float64\n",
      "acc_open_past_24mths          float64\n",
      "avg_cur_bal                   float64\n",
      "bc_open_to_buy                float64\n",
      "bc_util                       float64\n",
      "chargeoff_within_12_mths      float64\n",
      "delinq_amnt                   float64\n",
      "mo_sin_old_il_acct            float64\n",
      "mo_sin_old_rev_tl_op          float64\n",
      "mo_sin_rcnt_rev_tl_op         float64\n",
      "mo_sin_rcnt_tl                float64\n",
      "mort_acc                      float64\n",
      "mths_since_recent_bc          float64\n",
      "num_accts_ever_120_pd         float64\n",
      "num_actv_bc_tl                float64\n",
      "num_actv_rev_tl               float64\n",
      "num_bc_sats                   float64\n",
      "num_bc_tl                     float64\n",
      "num_il_tl                     float64\n",
      "num_op_rev_tl                 float64\n",
      "num_rev_accts                 float64\n",
      "num_rev_tl_bal_gt_0           float64\n",
      "num_sats                      float64\n",
      "num_tl_120dpd_2m              float64\n",
      "num_tl_30dpd                  float64\n",
      "num_tl_90g_dpd_24m            float64\n",
      "num_tl_op_past_12m            float64\n",
      "pct_tl_nvr_dlq                float64\n",
      "percent_bc_gt_75              float64\n",
      "pub_rec_bankruptcies          float64\n",
      "tax_liens                     float64\n",
      "tot_hi_cred_lim               float64\n",
      "total_bal_ex_mort             float64\n",
      "total_bc_limit                float64\n",
      "total_il_high_credit_limit    float64\n",
      "hardship_flag                 object\n",
      "disbursement_method           object\n",
      "debt_settlement_flag          object\n",
      "dtypes: float64(68), object(24)\n",
      "memory usage: 1.5+ GB\n"
     ]
    }
   ],
   "source": [
    "loans_data = loans_data[not_missing.index]\n",
    "loans_data.info()"
   ]
  }
 ],
 "metadata": {
  "kernelspec": {
   "display_name": "Python 3",
   "language": "python",
   "name": "python3"
  },
  "language_info": {
   "codemirror_mode": {
    "name": "ipython",
    "version": 3
   },
   "file_extension": ".py",
   "mimetype": "text/x-python",
   "name": "python",
   "nbconvert_exporter": "python",
   "pygments_lexer": "ipython3",
   "version": "3.7.3"
  }
 },
 "nbformat": 4,
 "nbformat_minor": 2
}
